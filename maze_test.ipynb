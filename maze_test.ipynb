{
 "cells": [
  {
   "cell_type": "code",
   "execution_count": 1,
   "metadata": {},
   "outputs": [
    {
     "ename": "ModuleNotFoundError",
     "evalue": "No module named '_tkinter'",
     "output_type": "error",
     "traceback": [
      "\u001b[0;31m---------------------------------------------------------------------------\u001b[0m",
      "\u001b[0;31mModuleNotFoundError\u001b[0m                       Traceback (most recent call last)",
      "\u001b[1;32m/home/cherrykolya/Рабочий стол/PythonProjects/ray-tracing/maze_test.ipynb Cell 1'\u001b[0m in \u001b[0;36m<module>\u001b[0;34m\u001b[0m\n\u001b[0;32m----> <a href='vscode-notebook-cell:/home/cherrykolya/%D0%A0%D0%B0%D0%B1%D0%BE%D1%87%D0%B8%D0%B9%20%D1%81%D1%82%D0%BE%D0%BB/PythonProjects/ray-tracing/maze_test.ipynb#ch0000000?line=0'>1</a>\u001b[0m \u001b[39mfrom\u001b[39;00m \u001b[39mpyamaze\u001b[39;00m \u001b[39mimport\u001b[39;00m maze\n",
      "File \u001b[0;32m~/Рабочий стол/PythonProjects/ray-tracing/venv/lib/python3.9/site-packages/pyamaze/__init__.py:1\u001b[0m, in \u001b[0;36m<module>\u001b[0;34m\u001b[0m\n\u001b[0;32m----> <a href='file:///~/%D0%A0%D0%B0%D0%B1%D0%BE%D1%87%D0%B8%D0%B9%20%D1%81%D1%82%D0%BE%D0%BB/PythonProjects/ray-tracing/venv/lib/python3.9/site-packages/pyamaze/__init__.py?line=0'>1</a>\u001b[0m \u001b[39mfrom\u001b[39;00m \u001b[39mpyamaze\u001b[39;00m\u001b[39m.\u001b[39;00m\u001b[39mpyamaze\u001b[39;00m \u001b[39mimport\u001b[39;00m maze,agent,COLOR,textLabel\n",
      "File \u001b[0;32m~/Рабочий стол/PythonProjects/ray-tracing/venv/lib/python3.9/site-packages/pyamaze/pyamaze.py:26\u001b[0m, in \u001b[0;36m<module>\u001b[0;34m\u001b[0m\n\u001b[1;32m      <a href='file:///~/%D0%A0%D0%B0%D0%B1%D0%BE%D1%87%D0%B8%D0%B9%20%D1%81%D1%82%D0%BE%D0%BB/PythonProjects/ray-tracing/venv/lib/python3.9/site-packages/pyamaze/pyamaze.py?line=0'>1</a>\u001b[0m \u001b[39m\"\"\"\u001b[39;00m\n\u001b[1;32m      <a href='file:///~/%D0%A0%D0%B0%D0%B1%D0%BE%D1%87%D0%B8%D0%B9%20%D1%81%D1%82%D0%BE%D0%BB/PythonProjects/ray-tracing/venv/lib/python3.9/site-packages/pyamaze/pyamaze.py?line=1'>2</a>\u001b[0m \u001b[39mLicense\u001b[39;00m\n\u001b[1;32m      <a href='file:///~/%D0%A0%D0%B0%D0%B1%D0%BE%D1%87%D0%B8%D0%B9%20%D1%81%D1%82%D0%BE%D0%BB/PythonProjects/ray-tracing/venv/lib/python3.9/site-packages/pyamaze/pyamaze.py?line=2'>3</a>\u001b[0m \u001b[39mhttps://www.youtube.com/c/LearningOrbis\u001b[39;00m\n\u001b[0;32m   (...)\u001b[0m\n\u001b[1;32m     <a href='file:///~/%D0%A0%D0%B0%D0%B1%D0%BE%D1%87%D0%B8%D0%B9%20%D1%81%D1%82%D0%BE%D0%BB/PythonProjects/ray-tracing/venv/lib/python3.9/site-packages/pyamaze/pyamaze.py?line=21'>22</a>\u001b[0m \u001b[39mSOFTWARE.\u001b[39;00m\n\u001b[1;32m     <a href='file:///~/%D0%A0%D0%B0%D0%B1%D0%BE%D1%87%D0%B8%D0%B9%20%D1%81%D1%82%D0%BE%D0%BB/PythonProjects/ray-tracing/venv/lib/python3.9/site-packages/pyamaze/pyamaze.py?line=22'>23</a>\u001b[0m \u001b[39m\"\"\"\u001b[39;00m\n\u001b[1;32m     <a href='file:///~/%D0%A0%D0%B0%D0%B1%D0%BE%D1%87%D0%B8%D0%B9%20%D1%81%D1%82%D0%BE%D0%BB/PythonProjects/ray-tracing/venv/lib/python3.9/site-packages/pyamaze/pyamaze.py?line=24'>25</a>\u001b[0m \u001b[39mimport\u001b[39;00m \u001b[39mrandom\u001b[39;00m\u001b[39m,\u001b[39m\u001b[39mdatetime\u001b[39;00m\u001b[39m,\u001b[39m\u001b[39mcsv\u001b[39;00m\u001b[39m,\u001b[39m\u001b[39mos\u001b[39;00m\n\u001b[0;32m---> <a href='file:///~/%D0%A0%D0%B0%D0%B1%D0%BE%D1%87%D0%B8%D0%B9%20%D1%81%D1%82%D0%BE%D0%BB/PythonProjects/ray-tracing/venv/lib/python3.9/site-packages/pyamaze/pyamaze.py?line=25'>26</a>\u001b[0m \u001b[39mfrom\u001b[39;00m \u001b[39mtkinter\u001b[39;00m \u001b[39mimport\u001b[39;00m \u001b[39m*\u001b[39m\n\u001b[1;32m     <a href='file:///~/%D0%A0%D0%B0%D0%B1%D0%BE%D1%87%D0%B8%D0%B9%20%D1%81%D1%82%D0%BE%D0%BB/PythonProjects/ray-tracing/venv/lib/python3.9/site-packages/pyamaze/pyamaze.py?line=26'>27</a>\u001b[0m \u001b[39mfrom\u001b[39;00m \u001b[39menum\u001b[39;00m \u001b[39mimport\u001b[39;00m Enum\n\u001b[1;32m     <a href='file:///~/%D0%A0%D0%B0%D0%B1%D0%BE%D1%87%D0%B8%D0%B9%20%D1%81%D1%82%D0%BE%D0%BB/PythonProjects/ray-tracing/venv/lib/python3.9/site-packages/pyamaze/pyamaze.py?line=27'>28</a>\u001b[0m \u001b[39mfrom\u001b[39;00m \u001b[39mcollections\u001b[39;00m \u001b[39mimport\u001b[39;00m deque\n",
      "File \u001b[0;32m/usr/local/lib/python3.9/tkinter/__init__.py:37\u001b[0m, in \u001b[0;36m<module>\u001b[0;34m\u001b[0m\n\u001b[1;32m     <a href='file:///usr/local/lib/python3.9/tkinter/__init__.py?line=33'>34</a>\u001b[0m \u001b[39mimport\u001b[39;00m \u001b[39msys\u001b[39;00m\n\u001b[1;32m     <a href='file:///usr/local/lib/python3.9/tkinter/__init__.py?line=34'>35</a>\u001b[0m \u001b[39mimport\u001b[39;00m \u001b[39mtypes\u001b[39;00m\n\u001b[0;32m---> <a href='file:///usr/local/lib/python3.9/tkinter/__init__.py?line=36'>37</a>\u001b[0m \u001b[39mimport\u001b[39;00m \u001b[39m_tkinter\u001b[39;00m \u001b[39m# If this fails your Python may not be configured for Tk\u001b[39;00m\n\u001b[1;32m     <a href='file:///usr/local/lib/python3.9/tkinter/__init__.py?line=37'>38</a>\u001b[0m TclError \u001b[39m=\u001b[39m _tkinter\u001b[39m.\u001b[39mTclError\n\u001b[1;32m     <a href='file:///usr/local/lib/python3.9/tkinter/__init__.py?line=38'>39</a>\u001b[0m \u001b[39mfrom\u001b[39;00m \u001b[39mtkinter\u001b[39;00m\u001b[39m.\u001b[39;00m\u001b[39mconstants\u001b[39;00m \u001b[39mimport\u001b[39;00m \u001b[39m*\u001b[39m\n",
      "\u001b[0;31mModuleNotFoundError\u001b[0m: No module named '_tkinter'"
     ]
    }
   ],
   "source": [
    "from pyamaze import maze"
   ]
  },
  {
   "cell_type": "code",
   "execution_count": 3,
   "metadata": {},
   "outputs": [
    {
     "name": "stdout",
     "output_type": "stream",
     "text": [
      "Requirement already satisfied: tk in ./venv/lib/python3.9/site-packages (0.1.0)\n",
      "\u001b[33mWARNING: You are using pip version 20.2.3; however, version 22.0.3 is available.\n",
      "You should consider upgrading via the '/home/cherrykolya/Рабочий стол/PythonProjects/ray-tracing/venv/bin/python -m pip install --upgrade pip' command.\u001b[0m\n",
      "Note: you may need to restart the kernel to use updated packages.\n"
     ]
    }
   ],
   "source": []
  },
  {
   "cell_type": "code",
   "execution_count": null,
   "metadata": {},
   "outputs": [],
   "source": []
  }
 ],
 "metadata": {
  "interpreter": {
   "hash": "1015dbb577602862c56fde3ed8ded317b466c6ae00c4edeb637889653669d805"
  },
  "kernelspec": {
   "display_name": "Python 3.9.1 ('venv': venv)",
   "language": "python",
   "name": "python3"
  },
  "language_info": {
   "codemirror_mode": {
    "name": "ipython",
    "version": 3
   },
   "file_extension": ".py",
   "mimetype": "text/x-python",
   "name": "python",
   "nbconvert_exporter": "python",
   "pygments_lexer": "ipython3",
   "version": "3.9.1"
  },
  "orig_nbformat": 4
 },
 "nbformat": 4,
 "nbformat_minor": 2
}
